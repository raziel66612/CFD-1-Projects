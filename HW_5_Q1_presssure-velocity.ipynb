{
 "cells": [
  {
   "cell_type": "code",
   "execution_count": 16,
   "id": "51f06aa6",
   "metadata": {},
   "outputs": [],
   "source": [
    "# -*- coding: utf-8 -*-\n",
    "\"\"\"\n",
    "Created on Sun Apr 17 16:32:23 2022\n",
    "#%% Execution\n",
    "@author: Raziel\n",
    "\"\"\"\n",
    "\n",
    "\n",
    "import numpy as np\n",
    "import matplotlib.pylab as plt\n",
    "from matplotlib import cm\n",
    "\n",
    "# TTime = 0.05\n",
    "N = 101\n",
    "# N_t = 3\n",
    "# Del_t = TTime / N_t\n",
    "# alpha = 0.05\n",
    "Lx = 1.0\n",
    "Ly = 1.0\n",
    "dx=Lx/(N-1)\n",
    "dy=Ly/(N-1)\n",
    "\n",
    "xx=[]\n",
    "yy=[]\n",
    "xx=np.linspace(0,Lx,N)\n",
    "yy=np.linspace(0,Ly,N)\n",
    "X,Y=np.meshgrid(xx,yy)\n",
    "\n",
    "\n",
    "s=(N,N)\n",
    "u=np.zeros(s)\n",
    "\n",
    "\n",
    "for i in range(len(yy)):\n",
    "      u[0,i]=(yy[i]**2-yy[i])/4\n",
    "\n",
    "        \n",
    "b=np.zeros(N*N)\n",
    "A=np.zeros((N*N,N*N))\n",
    "\n",
    "x=u.reshape(N*N)      "
   ]
  },
  {
   "cell_type": "code",
   "execution_count": 17,
   "id": "bd017772",
   "metadata": {},
   "outputs": [],
   "source": [
    "\n",
    "for j in range(0,N):  #looping along x axis\n",
    "    for i in range(0,N):  #looping along y axis\n",
    "        m = i*N+j\n",
    "        # print(m)\n",
    "        m_xn=(i-1)*N+j\n",
    "        m_xp=(i+1)*N+j\n",
    "        m_yn=i*N+(j-1)\n",
    "        m_yp=i*N+(j+1)\n",
    "        \n",
    "        x[m]= ((yy[i]**2-yy[i])/4)      #Initial_Condition\n",
    "           \n",
    "        if  j==0:\n",
    "            A[m,m]=1\n",
    "            b[m]=2       #pressure is 2 on left boundary  \n",
    "            # b[m]=x[m]      \n",
    "            \n",
    "        elif j==N-1:\n",
    "            A[m,m]=1\n",
    "            b[m]=0   #this should give P = 0 along P(1,y)\n",
    "        \n",
    "        elif i==0 or i==N-1:\n",
    "            A[m,m]=1\n",
    "            b[m]=0\n",
    "        \n",
    "        else:\n",
    "            A[m,m_yn] = 1\n",
    "            A[m,m_xn] = 1\n",
    "            A[m,m] = -4\n",
    "            A[m,m_xp] = 1\n",
    "            A[m,m_yp] = 1\n",
    "            \n",
    "            b[m] = -(x[m_xp]-x[m])**2\n",
    "    \n",
    "x=np.linalg.solve(A,b)             #Solving for Pressure\n",
    "    \n",
    "P=x.reshape(N,N)   #convert to 2d\n"
   ]
  },
  {
   "cell_type": "code",
   "execution_count": 18,
   "id": "744e7fa4",
   "metadata": {},
   "outputs": [
    {
     "data": {
      "image/png": "[encoded data removed]",
      "text/plain": [
       "<Figure size 432x288 with 2 Axes>"
      ]
     },
     "metadata": {
      "needs_background": "light"
     },
     "output_type": "display_data"
    }
   ],
   "source": [
    "\n",
    "fig=plt.figure()\n",
    "ax=plt.axes()\n",
    "q=ax.contourf(X,Y,P)\n",
    "plt.title('pressure contour')\n",
    "# plt.legend()\n",
    "ax.set_xlabel('x-coordinate')\n",
    "ax.set_ylabel('y-coordinate')\n",
    "plt.colorbar(q)\n",
    "plt.show()\n",
    "\n",
    "\n",
    "# fig=plt.figure()\n",
    "# ax= plt.axes(projection = '3d')\n",
    "# p = ax.plot_surface(X,Y,u) \n",
    "# plt.title('2D Diffusion')\n",
    "# plt.show()\n",
    "\n",
    "\n",
    "# fig = plt.figure()\n",
    "# ax = fig.add_subplot(1,2,1,projection='3d')\n",
    "# # surf = ax.plot_surface(X, Y, u[-1],cmap=cm.coolwarm)\n",
    "# surf = ax.plot_surface(X, Y, u,cmap=\"jet\")\n",
    "# ax.set_xlabel('x-coordinate')\n",
    "# ax.set_ylabel('y-coordinate')\n",
    "# ax.set_zlabel('U velocity')\n",
    "# ax.set_xlim(0,2)\n",
    "# ax.set_ylim(0,2)\n",
    "# # ax.set_zlim(0,2)"
   ]
  },
  {
   "cell_type": "code",
   "execution_count": null,
   "id": "a6d7b3e6",
   "metadata": {},
   "outputs": [],
   "source": []
  }
 ],
 "metadata": {
  "kernelspec": {
   "display_name": "Python 3",
   "language": "python",
   "name": "python3"
  },
  "language_info": {
   "codemirror_mode": {
    "name": "ipython",
    "version": 3
   },
   "file_extension": ".py",
   "mimetype": "text/x-python",
   "name": "python",
   "nbconvert_exporter": "python",
   "pygments_lexer": "ipython3",
   "version": "3.8.8"
  }
 },
 "nbformat": 4,
 "nbformat_minor": 5
}
