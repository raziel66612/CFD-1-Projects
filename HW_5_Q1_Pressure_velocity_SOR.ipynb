{
 "cells": [
  {
   "cell_type": "code",
   "execution_count": 1,
   "id": "1ea9c895",
   "metadata": {},
   "outputs": [],
   "source": [
    "import numpy as np\n",
    "import matplotlib.pylab as plt\n",
    "# from matplotlib import cm\n",
    "import time\n",
    "# from numba import jit"
   ]
  },
  {
   "cell_type": "markdown",
   "id": "3d95543b",
   "metadata": {},
   "source": [
    "SOR Solver :"
   ]
  },
  {
   "cell_type": "code",
   "execution_count": 14,
   "id": "f7cbfe30",
   "metadata": {},
   "outputs": [],
   "source": [
    "# @jit(nopython=True)\n",
    "def SOR_SOLVER(A,b,omega,initial_guess,convergence_criteria):\n",
    "    '''\n",
    "    \n",
    "\n",
    "    Parameters\n",
    "    ----------\n",
    "    A : Matrix\n",
    "        Size (NxN)\n",
    "    b : Vector\n",
    "        RHS Vector, (Nx1)\n",
    "    omega : Relaxation factor\n",
    "        Ranges lies in 0 < omega < 2 .\n",
    "    initial_guess : Vector\n",
    "        Initial Vector, Size, Nx1\n",
    "    convergence_criteria : integer\n",
    "        This is the Residual criteria which also acts as a limiter \n",
    "        to stop the iterative process.\n",
    "\n",
    "    Returns\n",
    "    -------\n",
    "    X_solution : 1d List\n",
    "        Solution.\n",
    "\n",
    "    '''\n",
    " \n",
    "    \n",
    "    # start=time.time()         #Start Time\n",
    "    summ = np.zeros_like(initial_guess)\n",
    "    err= np.linalg.norm(np.matmul(A, initial_guess) - b)     #initial residual error\n",
    "    \n",
    "    count=0\n",
    "    while err>convergence_criteria:    \n",
    "        # Method 1\n",
    "        for i in range(A.shape[0]):\n",
    "            summ = np.dot(A[i], initial_guess) - A[i,i] * initial_guess[i]\n",
    "            initial_guess[i] = (1 - omega) * initial_guess[i] + (omega / A[i,i]) * (b[i] - summ)\n",
    "        err = np.linalg.norm(np.matmul(A, initial_guess) - b)\n",
    "        \n",
    "        # Method 2\n",
    "        # diagonal = np.diag(A)\n",
    "        # summ = np.dot(A, initial_guess) - diagonal * initial_guess\n",
    "        # initial_guess = (1 - omega) * initial_guess + omega * (b - summ) / diagonal\n",
    "        # err = np.linalg.norm(np.matmul(A, initial_guess) - b)\n",
    "        count+=1\n",
    "        if not count % 100:\n",
    "            print(\"Iteration #\", count, \": residual = \", err)\n",
    "    print(\"Iteration #\", count, \": residual = \", err)\n",
    "    X_solution=initial_guess\n",
    "\n",
    "    return X_solution\n"
   ]
  },
  {
   "cell_type": "markdown",
   "id": "562596f5",
   "metadata": {},
   "source": [
    "Initiation :"
   ]
  },
  {
   "cell_type": "code",
   "execution_count": 3,
   "id": "8a1c182b",
   "metadata": {},
   "outputs": [],
   "source": [
    "\n",
    "#start = time.time()\n",
    "N = 101\n",
    "Lx = 1.0\n",
    "Ly = 1.0\n",
    "dx=Lx/(N-1)\n",
    "dy=Ly/(N-1)\n",
    "\n",
    "xx=[]\n",
    "yy=[]\n",
    "xx=np.linspace(0,Lx,N)\n",
    "yy=np.linspace(0,Ly,N)\n",
    "X,Y=np.meshgrid(xx,yy)\n",
    "\n",
    "\n",
    "s=(N,N)\n",
    "u=np.zeros(s,dtype=np.float64)\n",
    "\n",
    "\n",
    "for i in range(len(yy)):\n",
    "      u[0,i]=(yy[i]**2-yy[i])/4\n",
    "\n",
    "        \n",
    "b=np.zeros(N*N,dtype=np.float64)\n",
    "A=np.zeros((N*N,N*N),dtype=np.float64)\n",
    "\n",
    "x=u.reshape(N*N)      \n"
   ]
  },
  {
   "cell_type": "markdown",
   "id": "0378d1a3",
   "metadata": {},
   "source": [
    "Solving for Pressure: "
   ]
  },
  {
   "cell_type": "code",
   "execution_count": 4,
   "id": "26f9c0f2",
   "metadata": {},
   "outputs": [],
   "source": [
    "\n",
    "for j in range(0,N):  #looping along x axis\n",
    "    for i in range(0,N):  #looping along y axis\n",
    "        m = i*N+j\n",
    "        # print(m)\n",
    "        m_xn=(i-1)*N+j\n",
    "        m_xp=(i+1)*N+j\n",
    "        m_yn=i*N+(j-1)\n",
    "        m_yp=i*N+(j+1)\n",
    "        \n",
    "        x[m]= ((yy[i]**2-yy[i])/4)      #Initial_Condition\n",
    "           \n",
    "        if  j==0:\n",
    "            A[m,m]=1\n",
    "            b[m]=2       #pressure is 2 on left boundary  \n",
    "            # b[m]=x[m]      \n",
    "            \n",
    "        elif j==N-1:\n",
    "            A[m,m]=1\n",
    "            b[m]=0   #this should give P = 0 along P(1,y)\n",
    "        \n",
    "        elif i==0 or i==N-1:\n",
    "            A[m,m]=1\n",
    "            b[m]=0\n",
    "        \n",
    "        else:\n",
    "            A[m,m_yn] = 1\n",
    "            A[m,m_xn] = 1\n",
    "            A[m,m] = -4\n",
    "            A[m,m_xp] = 1\n",
    "            A[m,m_yp] = 1\n",
    "            \n",
    "            b[m] = -(x[m_xp]-x[m])**2\n",
    "    "
   ]
  },
  {
   "cell_type": "markdown",
   "id": "d505b7b4",
   "metadata": {},
   "source": [
    "Solving for x from Ax=b, using in-built Function:"
   ]
  },
  {
   "cell_type": "code",
   "execution_count": 5,
   "id": "35c1b523",
   "metadata": {},
   "outputs": [],
   "source": [
    "#inbuilt funciton\n",
    "\n",
    "x=np.linalg.solve(A,b)             #Solving for Pressure\n",
    "end_inbuilt=time.time()\n",
    "\n",
    "P=x.reshape(N,N)   #convert to 2d"
   ]
  },
  {
   "cell_type": "markdown",
   "id": "23bbb856",
   "metadata": {},
   "source": [
    "Solving for x from Ax=b, using SOR iterative method:"
   ]
  },
  {
   "cell_type": "code",
   "execution_count": 15,
   "id": "b7aea0a3",
   "metadata": {},
   "outputs": [
    {
     "name": "stdout",
     "output_type": "stream",
     "text": [
      "Iteration # 100 : residual =  0.3377593799324513\n",
      "Iteration # 200 : residual =  0.2474810686123981\n",
      "Iteration # 300 : residual =  0.20248730150796346\n",
      "Iteration # 400 : residual =  0.17073432748160064\n",
      "Iteration # 500 : residual =  0.1455655132212855\n",
      "Iteration # 600 : residual =  0.12471194669189309\n",
      "Iteration # 700 : residual =  0.1071094517184918\n",
      "Iteration # 800 : residual =  0.09212004592528271\n",
      "Iteration # 900 : residual =  0.07929609915594939\n",
      "Iteration # 1000 : residual =  0.06829490047158827\n",
      "Iteration # 1100 : residual =  0.05884143434149381\n",
      "Iteration # 1200 : residual =  0.0507090947842025\n",
      "Iteration # 1300 : residual =  0.0437081929959912\n",
      "Iteration # 1400 : residual =  0.0376783654363379\n",
      "Iteration # 1500 : residual =  0.03248317128416298\n",
      "Iteration # 1600 : residual =  0.02800603372149045\n",
      "Iteration # 1700 : residual =  0.0241470672214156\n",
      "Iteration # 1800 : residual =  0.020820524750030968\n",
      "Iteration # 1900 : residual =  0.01795270081352613\n",
      "Iteration # 2000 : residual =  0.015480183613211261\n",
      "Iteration # 2100 : residual =  0.013348383267691173\n",
      "Iteration # 2200 : residual =  0.011510283714663394\n",
      "Iteration # 2300 : residual =  0.009925379114741487\n",
      "Iteration # 2400 : residual =  0.00855876440975456\n",
      "Iteration # 2500 : residual =  0.00738035585762349\n",
      "Iteration # 2600 : residual =  0.006364221862041866\n",
      "Iteration # 2700 : residual =  0.005488007817257023\n",
      "Iteration # 2800 : residual =  0.004732441345131841\n",
      "Iteration # 2900 : residual =  0.0040809064298577636\n",
      "Iteration # 3000 : residual =  0.003519076693616712\n",
      "Iteration # 3100 : residual =  0.003034599496678977\n",
      "Iteration # 3200 : residual =  0.002616823751529252\n",
      "Iteration # 3300 : residual =  0.0022565653585380936\n",
      "Iteration # 3400 : residual =  0.0019459050346810579\n",
      "Iteration # 3500 : residual =  0.001678014043022408\n",
      "Iteration # 3600 : residual =  0.0014470039599459262\n",
      "Iteration # 3700 : residual =  0.001247797156128194\n",
      "Iteration # 3800 : residual =  0.0010760151295876232\n",
      "Iteration # 3850 : residual =  0.0009992073193875151\n"
     ]
    }
   ],
   "source": [
    "IG=np.zeros(N*N,dtype=np.float64)   # initial_guess for SOR\n",
    "\n",
    "x_sor= SOR_SOLVER(A, b, 1.2, IG, 1e-3)\n",
    "#end_sor=time.time()    \n",
    "\n",
    "\n",
    "Q=x_sor.reshape(N,N)  "
   ]
  },
  {
   "cell_type": "markdown",
   "id": "184178b2",
   "metadata": {},
   "source": [
    "Plotting pressure contour solved by inbuilt solver: "
   ]
  },
  {
   "cell_type": "code",
   "execution_count": 20,
   "id": "9fbf9d0f",
   "metadata": {},
   "outputs": [
    {
     "data": {
      "image/png": "[encoded data removed]",
      "text/plain": [
       "<Figure size 432x288 with 2 Axes>"
      ]
     },
     "metadata": {
      "needs_background": "light"
     },
     "output_type": "display_data"
    }
   ],
   "source": [
    "fig=plt.figure()\n",
    "ax=plt.axes()\n",
    "q=ax.contourf(X,Y,P)\n",
    "plt.title('pressure contour :By in-built solver')\n",
    "# plt.legend()\n",
    "ax.set_xlabel('x-coordinate')\n",
    "ax.set_ylabel('y-coordinate')\n",
    "plt.colorbar(q)\n",
    "plt.show()\n"
   ]
  },
  {
   "cell_type": "markdown",
   "id": "4e6b9f3e",
   "metadata": {},
   "source": [
    "Plotting pressure contour solved by SOR iterative solver:"
   ]
  },
  {
   "cell_type": "code",
   "execution_count": 21,
   "id": "d8b0ceea",
   "metadata": {},
   "outputs": [
    {
     "data": {
      "image/png": "[encoded data removed]",
      "text/plain": [
       "<Figure size 432x288 with 2 Axes>"
      ]
     },
     "metadata": {
      "needs_background": "light"
     },
     "output_type": "display_data"
    }
   ],
   "source": [
    "fig=plt.figure()\n",
    "ax=plt.axes()\n",
    "q=ax.contourf(X,Y,Q)\n",
    "plt.title('pressure contour: By SOR iterative Solver')\n",
    "# plt.legend()\n",
    "ax.set_xlabel('x-coordinate')\n",
    "ax.set_ylabel('y-coordinate')\n",
    "plt.colorbar(q)\n",
    "plt.show()\n"
   ]
  }
 ],
 "metadata": {
  "kernelspec": {
   "display_name": "Python 3",
   "language": "python",
   "name": "python3"
  },
  "language_info": {
   "codemirror_mode": {
    "name": "ipython",
    "version": 3
   },
   "file_extension": ".py",
   "mimetype": "text/x-python",
   "name": "python",
   "nbconvert_exporter": "python",
   "pygments_lexer": "ipython3",
   "version": "3.8.8"
  }
 },
 "nbformat": 4,
 "nbformat_minor": 5
}
