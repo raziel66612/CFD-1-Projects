{
 "cells": [
  {
   "cell_type": "markdown",
   "id": "1c037ecb",
   "metadata": {},
   "source": [
    "-----------------------------------Homework 4, Question 1---------------------------------------------"
   ]
  },
  {
   "cell_type": "markdown",
   "id": "ff78fef1",
   "metadata": {},
   "source": [
    "---------------------------------Assigning & Initialization: ------------------------------------------"
   ]
  },
  {
   "cell_type": "code",
   "execution_count": 10,
   "id": "25a18d61",
   "metadata": {},
   "outputs": [],
   "source": [
    "# -*- coding: utf-8 -*-\n",
    "\"\"\"\n",
    "Created on Sat Apr  9 16:02:46 2022\n",
    "\n",
    "@author: Raziel\n",
    "\"\"\"\n",
    "import numpy as np\n",
    "import matplotlib.pylab as plt\n",
    "\n",
    "TTime = 0.5\n",
    "N = 101\n",
    "N_t = 300\n",
    "dt = TTime/N_t\n",
    "alpha = 0.05\n",
    "L = 2.0\n",
    "dx = L/(N-1)\n",
    "\n",
    "k=(0.5*alpha*dt)/((dx*dx))     # constant\n",
    "\n",
    "x=np.linspace(0,L,N)\n",
    "y=np.zeros(N)                #future time\n",
    "y[51]=1                      #boundary condition\n",
    "b=np.zeros(N)\n",
    "b=y[:]\n",
    "A=np.zeros((N,N))"
   ]
  },
  {
   "cell_type": "markdown",
   "id": "5594361e",
   "metadata": {},
   "source": [
    "------------------------------1-D Diffusion Equation : -----------------------------------------------"
   ]
  },
  {
   "cell_type": "code",
   "execution_count": 11,
   "id": "8e533d93",
   "metadata": {},
   "outputs": [],
   "source": [
    "# for n in range(1,N_t):\n",
    "for i in range(1,N-1):\n",
    "    A[i,i-1] = -k\n",
    "    A[i,i]   = (1+2*k)\n",
    "    A[i,i+1] = -k\n",
    "    \n",
    "A[0,0] = A[N-1,N-1] = 1        #initialization\n",
    "                   \n",
    "for n in range(1,N_t):\n",
    "    for j in range(1,N-1):\n",
    "        b[j]= k*b[j+1]+(1-2*k)*b[j]+k*b[j-1] \n",
    "        b[0] = b[N-1] = 0     \n",
    "        y=np.linalg.solve(A,b)\n",
    "        b[j]=y[j]\n",
    "    # print(A[:],'X =',b[:])\n",
    "       "
   ]
  },
  {
   "cell_type": "markdown",
   "id": "43cfaea7",
   "metadata": {},
   "source": [
    "---------------------------------Solution Plot is: -----------------------------------------------"
   ]
  },
  {
   "cell_type": "code",
   "execution_count": 12,
   "id": "24282240",
   "metadata": {},
   "outputs": [
    {
     "data": {
      "image/png": "[encoded data removed]",
      "text/plain": [
       "<Figure size 432x288 with 1 Axes>"
      ]
     },
     "metadata": {
      "needs_background": "light"
     },
     "output_type": "display_data"
    }
   ],
   "source": [
    "plt.plot(x,y)\n",
    "plt.xlabel('x ==>')\n",
    "plt.ylabel('U ==>')\n",
    "plt.show()\n",
    "        "
   ]
  }
 ],
 "metadata": {
  "kernelspec": {
   "display_name": "Python 3",
   "language": "python",
   "name": "python3"
  },
  "language_info": {
   "codemirror_mode": {
    "name": "ipython",
    "version": 3
   },
   "file_extension": ".py",
   "mimetype": "text/x-python",
   "name": "python",
   "nbconvert_exporter": "python",
   "pygments_lexer": "ipython3",
   "version": "3.8.8"
  }
 },
 "nbformat": 4,
 "nbformat_minor": 5
}
